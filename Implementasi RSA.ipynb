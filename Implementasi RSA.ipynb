{
 "cells": [
  {
   "cell_type": "code",
   "execution_count": 17,
   "id": "13f91845",
   "metadata": {},
   "outputs": [],
   "source": [
    "import random\n",
    "import sys\n",
    "\n",
    "\"\"\"\n",
    "fungsi ini untuk mengecek apakah bilangan prima, jika benar akan mengembalikan nilai benar (TRUE)\n",
    "\"\"\"\n",
    "\n",
    "def is_prime(num):\n",
    "    if num < 2:\n",
    "        return False\n",
    "    for prime in range (2,num):\n",
    "        if num %prime ==0:\n",
    "            return False\n",
    "    return True\n",
    "\n",
    "\"\"\"\n",
    "fungsi ini untuk mencari bilangan prima dari yang terkecil (min) sampai yang terbesar (max)\n",
    "\"\"\"\n",
    "def find_prime(min,max):\n",
    "    while 1:\n",
    "        value =random.randrange (min,max)\n",
    "        prime= is_prime (value)\n",
    "        if prime:\n",
    "            return value\n",
    "\"\"\"\n",
    "Algoritma euclid untuk menentukan pembagi  umum terbesar \n",
    "Gunakan iterai untuk membuatnya lebih cepat untuk bilangan bulat yang lebih besar\n",
    "\"\"\"        \n",
    "\n",
    "def gcd(a,b):\n",
    "    while b != 0:\n",
    "        a, b = b, a % b\n",
    "    return a\n",
    "\n",
    "\"\"\"\n",
    "fungsi ini menvari nilai e (kunci public)\n",
    "1. pilih e antara 1 dan phi (pilih e, sehingga e tidak bisa membagi rata phi).\n",
    "membagi rata disini adalah phi di mod e dan hasilnya berupa 0.\n",
    "\n",
    "contoh : phi phi % 3 = 0\n",
    "\n",
    "2. menentukan nilai e dengan syarat GCD (e, phi) = 1\n",
    "pastikan hasil dari GCD (e, phi) = 1. kembalikan nilai ke e.\n",
    "\n",
    "\n",
    "dimana bilangan prima, dan 1 < e < phi\n",
    "\"\"\"\n",
    "def find_e(phi):\n",
    "    while True:\n",
    "        e = random.randrange(2, phi)\n",
    "        if gcd(e, phi) == 1:\n",
    "            break\n",
    "    return e\n",
    "\n",
    "\"\"\"\n",
    "fungsi ini mencari nilai d (kunci private)\n",
    "mencari nilai d = (d*e) mod phi = 1\n",
    "hasilnya harus 1. Baru kembalikan ke nilai d\n",
    "\"\"\"\n",
    "\n",
    "def find_d(e, phi):\n",
    "    d = 2\n",
    "    while 1:\n",
    "        if ((d*e) % phi) == 1:\n",
    "            break\n",
    "        d += 1\n",
    "    return d\n",
    "\n",
    "#generate keypair\n",
    "def gen_key():\n",
    "    \n",
    "    p = find_prime (128, 256)\n",
    "    q = find_prime (128, 256)\n",
    "    #nilai p dan q tidak boleh sama, p != q\n",
    "    if p != q:\n",
    "        n= p * q\n",
    "        phi = (p-1) * (q-1)\n",
    "        e = find_e(phi)\n",
    "        d = find_d(e, phi)\n",
    "        return ((e, n), (d, n))\n",
    "    \n",
    "    #fungsi ini untuk mengenkripsi\n",
    "    #dengan rumus => c = (m^e) mod n\n",
    "    # c = ciphertext\n",
    "    # m = plaintext\n",
    "    # e = kunci publik\n",
    "    # maksud (m^e) adalah nilai m dipangkatkan nilai e\n",
    "    # jika di coding ke bahasa pemrograman python, ubah ^ menjadi **\n",
    "    # namun sebelumnya ubah dulu text ke nilai ascii, dengan menggunakan fungsi ord\n",
    "    # c =(m**e) % n\n",
    "\n",
    "def encrypt(e, n, plaintext):\n",
    "    ciphertext = [(ord(m)**e) % n for m in plaintext]\n",
    "    return ciphertext\n",
    "    \n",
    "    \n",
    "    #fungsi ini untuk mendekripsi\n",
    "    #dengan rumus => c = (m^e) mod n\n",
    "    # c = ciphertext\n",
    "    # m = plaintext\n",
    "    # d = kunci private\n",
    "    # m = (c**d)%n\n",
    "    # setelah itu ubah kembali dari nilai ascii ke text/character\n",
    "    \n",
    "def decrypt(d, n, ciphertext):\n",
    "    plaintext = [chr((c**d) % n) for c in ciphertext]\n",
    "    return plaintext\n"
   ]
  },
  {
   "cell_type": "code",
   "execution_count": 18,
   "id": "05dced7e",
   "metadata": {},
   "outputs": [
    {
     "name": "stdout",
     "output_type": "stream",
     "text": [
      "[285, 1689, 1903, 1903, 251, 1379, 541, 1903, 725, 1479, 1689]\n"
     ]
    }
   ],
   "source": [
    "ciphertext = encrypt(79, 3337, 'HELLO ALICE')\n",
    "print (ciphertext)"
   ]
  },
  {
   "cell_type": "code",
   "execution_count": 19,
   "id": "e0b5c416",
   "metadata": {},
   "outputs": [
    {
     "name": "stdout",
     "output_type": "stream",
     "text": [
      "HELLO ALICE\n"
     ]
    }
   ],
   "source": [
    "plaintext = decrypt (1019,3337,[285,1689,1903,1903,251,1379,541,1903,725,1479,1689])\n",
    "decrypted = ''.join(plaintext)\n",
    "print (decrypted)"
   ]
  },
  {
   "cell_type": "code",
   "execution_count": 16,
   "id": "05bca370",
   "metadata": {},
   "outputs": [
    {
     "data": {
      "text/plain": [
       "((30109, 31439), (19429, 31439))"
      ]
     },
     "execution_count": 16,
     "metadata": {},
     "output_type": "execute_result"
    }
   ],
   "source": [
    "gen_key()"
   ]
  }
 ],
 "metadata": {
  "kernelspec": {
   "display_name": "Python 3 (ipykernel)",
   "language": "python",
   "name": "python3"
  },
  "language_info": {
   "codemirror_mode": {
    "name": "ipython",
    "version": 3
   },
   "file_extension": ".py",
   "mimetype": "text/x-python",
   "name": "python",
   "nbconvert_exporter": "python",
   "pygments_lexer": "ipython3",
   "version": "3.9.7"
  }
 },
 "nbformat": 4,
 "nbformat_minor": 5
}
