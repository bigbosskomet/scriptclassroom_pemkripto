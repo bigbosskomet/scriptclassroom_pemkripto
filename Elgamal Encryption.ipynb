{
 "cells": [
  {
   "cell_type": "code",
   "execution_count": 7,
   "id": "d375c608",
   "metadata": {},
   "outputs": [
    {
     "name": "stdout",
     "output_type": "stream",
     "text": [
      "Enter message.halo\n",
      "g used= 21085326689128763747110211574883422282138605520841\n",
      "g^a used= 19974247937563307891037558044192920499492133497113\n",
      "g^k used=  23054958086789759879970216185696343522838997741095\n",
      "g^ak used=  67485474541186841533794605914470416320944868003\n",
      "Original Message= halo\n",
      "Encrypted Maessage= [7018489352283431519514639015104923297378266272312, 6546091030495123628778076773703630383131652196291, 7288431250448178885649817438762804962662045744324, 7490887674071739410251201256506216211624880348333]\n",
      "Decryted Message= halo\n"
     ]
    }
   ],
   "source": [
    "import random\n",
    "from math import pow\n",
    "\n",
    "a=random.randint(2,10)\n",
    "\n",
    "#To fing gcd of two numbers\n",
    "def gcd(a,b):\n",
    "    if a<b:\n",
    "        return gcd(b,a)\n",
    "    elif a%b==0:\n",
    "        return b\n",
    "    else:\n",
    "        return gcd(b,a%b)\n",
    "\n",
    "#For key generation i.e. large random number\n",
    "def gen_key(q):\n",
    "    key= random.randint(pow(10,20),q)\n",
    "    while gcd(q,key)!=1:\n",
    "        key=random.randint(pow(10,20),q)\n",
    "    return key\n",
    "\n",
    "def power(a,b,c):\n",
    "    x=1\n",
    "    y=a\n",
    "    while b>0:\n",
    "        if b%2==0:\n",
    "            x=(x*y)%c;\n",
    "        y=(y*y)%c\n",
    "        b=int(b/2)\n",
    "    return x%c\n",
    "\n",
    "#For asymetric encryption\n",
    "def encryption(msg,q,h,g):\n",
    "    ct=[]\n",
    "    k=gen_key(q)\n",
    "    s=power(h,k,q)\n",
    "    p=power(g,k,q)\n",
    "    for i in range(0,len(msg)):\n",
    "        ct.append(msg[i])\n",
    "    print(\"g^k used= \",p)\n",
    "    print(\"g^ak used= \",s)\n",
    "    for i in range(0,len(ct)):\n",
    "        ct[i]=s*ord(ct[i])\n",
    "    return ct,p\n",
    "\n",
    "#For decryption\n",
    "def decryption(ct,p,key,q):\n",
    "    pt=[]\n",
    "    h=power(p,key,q)\n",
    "    for i in range(0,len(ct)):\n",
    "        pt.append(chr(int(ct[i]/h)))\n",
    "    return pt\n",
    "\n",
    "\n",
    "msg=input(\"Enter message.\")\n",
    "q=random.randint(pow(10,20),pow(10,50))\n",
    "g=random.randint(2,q)\n",
    "key=gen_key(q)\n",
    "h=power(g,key,q)\n",
    "print(\"g used=\",g)\n",
    "print(\"g^a used=\",h)\n",
    "ct,p=encryption(msg,q,h,g)\n",
    "print(\"Original Message=\",msg)\n",
    "print(\"Encrypted Maessage=\",ct)\n",
    "pt=decryption(ct,p,key,q)\n",
    "d_msg=''.join(pt)\n",
    "print(\"Decryted Message=\",d_msg)"
   ]
  },
  {
   "cell_type": "code",
   "execution_count": null,
   "id": "d573b9af",
   "metadata": {},
   "outputs": [],
   "source": []
  }
 ],
 "metadata": {
  "kernelspec": {
   "display_name": "Python 3 (ipykernel)",
   "language": "python",
   "name": "python3"
  },
  "language_info": {
   "codemirror_mode": {
    "name": "ipython",
    "version": 3
   },
   "file_extension": ".py",
   "mimetype": "text/x-python",
   "name": "python",
   "nbconvert_exporter": "python",
   "pygments_lexer": "ipython3",
   "version": "3.9.7"
  }
 },
 "nbformat": 4,
 "nbformat_minor": 5
}
