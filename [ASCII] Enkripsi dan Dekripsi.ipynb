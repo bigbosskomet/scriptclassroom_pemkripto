{
 "cells": [
  {
   "cell_type": "code",
   "execution_count": 1,
   "metadata": {},
   "outputs": [],
   "source": [
    "def encrypt(p,k):\n",
    "    c=''\n",
    "    b=len(p)\n",
    "    for i in range(0,b):\n",
    "        if p[i]==' ':\n",
    "            ct=' '\n",
    "        else :\n",
    "            ca=(ord(p[i]) - 97 + k) %26 #\n",
    "            y=ca+97\n",
    "            ct=chr(y)\n",
    "        c=c+ct\n",
    "    return c\n",
    "\n",
    "def decrypt(c,k):\n",
    "    p=''\n",
    "    b=len(c)\n",
    "    for i in range(0,b):\n",
    "        if c[i]==' ':\n",
    "            pt=' '\n",
    "        else :\n",
    "            pa=(ord(c[i]) - 97 - k) %26\n",
    "            y=pa+97\n",
    "            pt=chr(y)\n",
    "        p=p+pt\n",
    "    return p"
   ]
  },
  {
   "cell_type": "code",
   "execution_count": 15,
   "metadata": {},
   "outputs": [
    {
     "data": {
      "text/plain": [
       "'dnx ndx nxd'"
      ]
     },
     "execution_count": 15,
     "metadata": {},
     "output_type": "execute_result"
    }
   ],
   "source": [
    "encrypt('aku kau kua',3)"
   ]
  },
  {
   "cell_type": "code",
   "execution_count": 2,
   "metadata": {},
   "outputs": [
    {
     "data": {
      "text/plain": [
       "'tluuvg uulcuuyhfuuv ujzghmuxduymbncuu b ohly irhcu euaidear mxuyhmjullr'"
      ]
     },
     "execution_count": 2,
     "metadata": {},
     "output_type": "execute_result"
    }
   ],
   "source": [
    "decrypt('zraabm aariaaenlaab apfmnsadjaeshtiaa h unre oxnia kagojkgx sdaensparrx',6)"
   ]
  },
  {
   "cell_type": "code",
   "execution_count": 17,
   "metadata": {},
   "outputs": [
    {
     "data": {
      "text/plain": [
       "'pjsfuf inf xzpf xfrf dfsl qfnsx'"
      ]
     },
     "execution_count": 17,
     "metadata": {},
     "output_type": "execute_result"
    }
   ],
   "source": [
    "encrypt('kenapa dia suka sama yang lain?',5)"
   ]
  },
  {
   "cell_type": "code",
   "execution_count": null,
   "metadata": {},
   "outputs": [],
   "source": []
  }
 ],
 "metadata": {
  "kernelspec": {
   "display_name": "Python 3",
   "language": "python",
   "name": "python3"
  },
  "language_info": {
   "codemirror_mode": {
    "name": "ipython",
    "version": 3
   },
   "file_extension": ".py",
   "mimetype": "text/x-python",
   "name": "python",
   "nbconvert_exporter": "python",
   "pygments_lexer": "ipython3",
   "version": "3.8.3"
  }
 },
 "nbformat": 4,
 "nbformat_minor": 4
}
