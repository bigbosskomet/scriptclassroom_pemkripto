{
 "cells": [
  {
   "cell_type": "markdown",
   "id": "3556bb02",
   "metadata": {},
   "source": [
    "#### Diffie - Hellman\n",
    "\n",
    "Berikut merupakan penghitung Kunci Rahasia yang menggunakan algoritma pertukaran kunci Diffie–Hellman. Ini adalah metode pertukaran kunci kriptografi dengan aman melalui saluran publik."
   ]
  },
  {
   "cell_type": "code",
   "execution_count": 4,
   "id": "4627fd2e",
   "metadata": {},
   "outputs": [
    {
     "name": "stdout",
     "output_type": "stream",
     "text": [
      "Enter p:28\n",
      "Enter g:44\n",
      "Secret key at A =  16\n",
      "Secret key at B =  16\n"
     ]
    }
   ],
   "source": [
    "import random\n",
    "\n",
    "p = int(input(\"Enter p:\"))\n",
    "g = int(input(\"Enter g:\"))\n",
    "a = random.randint(1, 100)      # syntax reference: https://docs.python.org/3/library/random.html\n",
    "b = random.randint(1, 100)\n",
    "A = ((pow(g, a)) % p)           # syntax reference: https://www.geeksforgeeks.org/pow-in-python/\n",
    "B = ((pow(g, b)) % p)\n",
    "Ka = ((pow(B, a)) % p)\n",
    "Kb = ((pow(A, b)) % p)\n",
    "print(\"Secret key at A = \", str(Ka))\n",
    "print(\"Secret key at B = \", str(Kb))"
   ]
  }
 ],
 "metadata": {
  "kernelspec": {
   "display_name": "Python 3 (ipykernel)",
   "language": "python",
   "name": "python3"
  },
  "language_info": {
   "codemirror_mode": {
    "name": "ipython",
    "version": 3
   },
   "file_extension": ".py",
   "mimetype": "text/x-python",
   "name": "python",
   "nbconvert_exporter": "python",
   "pygments_lexer": "ipython3",
   "version": "3.9.7"
  }
 },
 "nbformat": 4,
 "nbformat_minor": 5
}
