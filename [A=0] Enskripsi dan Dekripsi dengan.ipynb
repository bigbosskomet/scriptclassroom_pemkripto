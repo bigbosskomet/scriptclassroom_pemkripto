{
 "cells": [
  {
   "cell_type": "code",
   "execution_count": 2,
   "metadata": {
    "scrolled": true
   },
   "outputs": [
    {
     "ename": "SyntaxError",
     "evalue": "invalid syntax (<ipython-input-2-9a66d1bef3db>, line 20)",
     "output_type": "error",
     "traceback": [
      "\u001b[1;36m  File \u001b[1;32m\"<ipython-input-2-9a66d1bef3db>\"\u001b[1;36m, line \u001b[1;32m20\u001b[0m\n\u001b[1;33m    print plaintext()\u001b[0m\n\u001b[1;37m                  ^\u001b[0m\n\u001b[1;31mSyntaxError\u001b[0m\u001b[1;31m:\u001b[0m invalid syntax\n"
     ]
    }
   ],
   "source": [
    "# we need 2 helper mappings, from letters to ints and the inverse\n",
    "L2I = dict(zip(\"ABCDEFGHIJKLMNOPQRSTUVWXYZ\",range(26)))\n",
    "I2L = dict(zip(range(26),\"ABCDEFGHIJKLMNOPQRSTUVWXYZ\"))\n",
    "\n",
    "key = 3\n",
    "plaintext = \"DEFEND THE EAST WALL OF THE CASTLE\"\n",
    "\n",
    "# encipher\n",
    "ciphertext = \"\"\n",
    "for c in plaintext.upper():\n",
    "    if c.isalpha(): ciphertext += I2L[ (L2I[c] + key)%26 ]\n",
    "    else: ciphertext += c\n",
    "\n",
    "# decipher\n",
    "plaintext2 = \"\"\n",
    "for c in ciphertext.upper():\n",
    "    if c.isalpha(): plaintext2 += I2L[ (L2I[c] - key)%26 ]\n",
    "    else: plaintext2 += c\n",
    "\n",
    "print plaintext\n",
    "print ciphertext\n",
    "print plaintext2"
   ]
  },
  {
   "cell_type": "markdown",
   "metadata": {},
   "source": [
    "# Proses Enkripsi dan Dekripsi pada Python"
   ]
  },
  {
   "cell_type": "code",
   "execution_count": 3,
   "metadata": {},
   "outputs": [],
   "source": [
    "p='aku' ; "
   ]
  },
  {
   "cell_type": "code",
   "execution_count": 9,
   "metadata": {},
   "outputs": [
    {
     "data": {
      "text/plain": [
       "'u'"
      ]
     },
     "execution_count": 9,
     "metadata": {},
     "output_type": "execute_result"
    }
   ],
   "source": [
    "p"
   ]
  },
  {
   "cell_type": "code",
   "execution_count": 10,
   "metadata": {},
   "outputs": [
    {
     "data": {
      "text/plain": [
       "'a'"
      ]
     },
     "execution_count": 10,
     "metadata": {},
     "output_type": "execute_result"
    }
   ],
   "source": [
    "p[0]"
   ]
  },
  {
   "cell_type": "code",
   "execution_count": 11,
   "metadata": {},
   "outputs": [
    {
     "data": {
      "text/plain": [
       "'k'"
      ]
     },
     "execution_count": 11,
     "metadata": {},
     "output_type": "execute_result"
    }
   ],
   "source": [
    "p[1]"
   ]
  },
  {
   "cell_type": "code",
   "execution_count": 12,
   "metadata": {},
   "outputs": [
    {
     "data": {
      "text/plain": [
       "'u'"
      ]
     },
     "execution_count": 12,
     "metadata": {},
     "output_type": "execute_result"
    }
   ],
   "source": [
    "p[2]"
   ]
  },
  {
   "cell_type": "code",
   "execution_count": 13,
   "metadata": {},
   "outputs": [
    {
     "data": {
      "text/plain": [
       "97"
      ]
     },
     "execution_count": 13,
     "metadata": {},
     "output_type": "execute_result"
    }
   ],
   "source": [
    "ord('a') #ord itu huruf menjadi angka (huruf ASCII)"
   ]
  },
  {
   "cell_type": "code",
   "execution_count": 14,
   "metadata": {},
   "outputs": [
    {
     "data": {
      "text/plain": [
       "'B'"
      ]
     },
     "execution_count": 14,
     "metadata": {},
     "output_type": "execute_result"
    }
   ],
   "source": [
    "chr(66) #chr itu dari angka menjadi huruf (huruf ASCII)"
   ]
  },
  {
   "cell_type": "code",
   "execution_count": 15,
   "metadata": {},
   "outputs": [],
   "source": [
    "ct=''"
   ]
  },
  {
   "cell_type": "code",
   "execution_count": 16,
   "metadata": {},
   "outputs": [],
   "source": [
    "#proses enkripsi (ditambah kunci)\n",
    "\n",
    "for i in range (0, len(p)):\n",
    "    c=chr(ord(p[i])+3) #chiper text itu plain text + kunci (diangka kan dulu pakai ord dari pesan). kunci = 3.\n",
    "    #terus dikasih chr supaya dia balik jadi text\n",
    "    ct=ct+c"
   ]
  },
  {
   "cell_type": "code",
   "execution_count": 18,
   "metadata": {},
   "outputs": [
    {
     "data": {
      "text/plain": [
       "'dnx'"
      ]
     },
     "execution_count": 18,
     "metadata": {},
     "output_type": "execute_result"
    }
   ],
   "source": [
    "ct #melihat hasil dari p tadi. \n",
    "\n",
    "#alurnya:\n",
    "#(a=97) + 3 = 100. Dalam ASCII, 100 adalah huruf D\n",
    "#begitu seterusnya untuk huruf K dan huruf U"
   ]
  },
  {
   "cell_type": "code",
   "execution_count": 19,
   "metadata": {},
   "outputs": [
    {
     "data": {
      "text/plain": [
       "'aku'"
      ]
     },
     "execution_count": 19,
     "metadata": {},
     "output_type": "execute_result"
    }
   ],
   "source": [
    "p"
   ]
  },
  {
   "cell_type": "code",
   "execution_count": 20,
   "metadata": {},
   "outputs": [],
   "source": [
    "pt=''"
   ]
  },
  {
   "cell_type": "code",
   "execution_count": 21,
   "metadata": {},
   "outputs": [],
   "source": [
    "p=''"
   ]
  },
  {
   "cell_type": "code",
   "execution_count": 23,
   "metadata": {},
   "outputs": [],
   "source": [
    "#proses dekripsi ()\n",
    "for i in range (0, len(ct)):\n",
    "    p=chr(ord(ct[i])-3) #dikurangi kunci (kunci=3)\n",
    "    pt = pt + p"
   ]
  },
  {
   "cell_type": "code",
   "execution_count": 24,
   "metadata": {},
   "outputs": [
    {
     "data": {
      "text/plain": [
       "'aku'"
      ]
     },
     "execution_count": 24,
     "metadata": {},
     "output_type": "execute_result"
    }
   ],
   "source": [
    "pt"
   ]
  },
  {
   "cell_type": "markdown",
   "metadata": {},
   "source": [
    "# Menggunakan Pendefinisian dengan A=0"
   ]
  },
  {
   "cell_type": "code",
   "execution_count": 1,
   "metadata": {},
   "outputs": [],
   "source": [
    "#sekarang menggunakan penomoran a=0\n",
    "\n",
    "def encrypt(p,k): #parameter=pesan(p) dan kunci(k). butuh inputan\n",
    "    #A adalah dictionary angka, dari huruf ke angka\n",
    "    A={'a':0, 'b':1, 'c':2, 'd':3, 'e':4, 'f':5, 'g':6, 'h':7, 'i':8, 'j':9, 'k':10, 'l':11, 'm':12, 'n':13,\n",
    "       'o':14, 'p':15, 'q':16, 'r':17, 's':18, 't':19, 'u':20, 'v':21, 'w':22, 'x':23,'y':24,'z':25}\n",
    "    #H adalah dictionary huruf, dari angka ke huruf\n",
    "    H={0:'a', 1:'b', 2:'c', 3:'d', 4:'e', 5:'f', 6:'g', 7:'h', 8:'i', 9:'j', 10:'k', 11:'l', 12:'m', 13:'n',\n",
    "       14:'o', 15:'p', 16:'q', 17:'r', 18:'s', 19:'t', 20:'u', 21:'v', 22:'w', 23:'x', 24:'y', 25:'z'}\n",
    "    c=''\n",
    "    b=len(p) #banyak karakter, len(p)\n",
    "    \n",
    "    for i in range(0,b): #dari 0 sampai banyaknya pesan\n",
    "        if p[i]==' ': #disini ditambah spasi, kalo dia spasi\n",
    "            ct=' ' #maka akan tetap spasi\n",
    "        \n",
    "        else : #jika bukan spasi\n",
    "            ca=(A[p[i]] + k)%26 #ca=cipher angka. angka dari pesan ke i. pesannya di angkakan dulu lalu tambah kunci, \n",
    "                                #lalu di modulo 26\n",
    "            ct=H[ca] #dari angka tadi di hurufkan jadi ct=cipher text\n",
    "        c= c+ct \n",
    "    return c\n",
    "\n",
    "\n",
    "def decrypt(c,k):\n",
    "    A={'a':0, 'b':1, 'c':2, 'd':3, 'e':4, 'f':5, 'g':6, 'h':7, 'i':8, 'j':9, 'k':10, 'l':11, 'm':12, 'n':13,\n",
    "       'o':14, 'p':15, 'q':16, 'r':17, 's':18, 't':19, 'u':20, 'v':21, 'w':22, 'x':23,'y':24,'z':25}\n",
    "    H={0:'a', 1:'b', 2:'c', 3:'d', 4:'e', 5:'f', 6:'g', 7:'h', 8:'i', 9:'j', 10:'k', 11:'l', 12:'m', 13:'n',\n",
    "       14:'o', 15:'p', 16:'q', 17:'r', 18:'s', 19:'t', 20:'u', 21:'v', 22:'w', 23:'x', 24:'y', 25:'z'}\n",
    "    p=''\n",
    "    b=len(c)\n",
    "    for i in range (0,b):\n",
    "        if c[i]==' ':\n",
    "            pt=' '\n",
    "        else :\n",
    "            pa=(A[c[i]]-k)%26\n",
    "            pt=H[pa]\n",
    "        p=p+pt\n",
    "    return p\n",
    "\n",
    "#alur dari dekripsi sama seperti enkripsi, hanya saja dia dikurangi dengan kunci"
   ]
  },
  {
   "cell_type": "code",
   "execution_count": 26,
   "metadata": {},
   "outputs": [
    {
     "data": {
      "text/plain": [
       "'dnx ndx nxd'"
      ]
     },
     "execution_count": 26,
     "metadata": {},
     "output_type": "execute_result"
    }
   ],
   "source": [
    "encrypt('aku kau kua',3)"
   ]
  },
  {
   "cell_type": "code",
   "execution_count": 2,
   "metadata": {},
   "outputs": [
    {
     "data": {
      "text/plain": [
       "'tluuvg uulcuuyhfuuv ujzghmuxduymbncuu b ohly irhcu euaidear mxuyhmjullr'"
      ]
     },
     "execution_count": 2,
     "metadata": {},
     "output_type": "execute_result"
    }
   ],
   "source": [
    "decrypt('zraabm aariaaenlaab apfmnsadjaeshtiaa h unre oxnia kagojkgx sdaensparrx',6)"
   ]
  },
  {
   "cell_type": "code",
   "execution_count": null,
   "metadata": {},
   "outputs": [],
   "source": []
  }
 ],
 "metadata": {
  "kernelspec": {
   "display_name": "Python 3",
   "language": "python",
   "name": "python3"
  },
  "language_info": {
   "codemirror_mode": {
    "name": "ipython",
    "version": 3
   },
   "file_extension": ".py",
   "mimetype": "text/x-python",
   "name": "python",
   "nbconvert_exporter": "python",
   "pygments_lexer": "ipython3",
   "version": "3.8.3"
  }
 },
 "nbformat": 4,
 "nbformat_minor": 4
}
