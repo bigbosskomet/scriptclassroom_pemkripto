{
 "cells": [
  {
   "cell_type": "markdown",
   "metadata": {},
   "source": [
    "## Dari Pak Huda"
   ]
  },
  {
   "cell_type": "code",
   "execution_count": 50,
   "metadata": {},
   "outputs": [],
   "source": [
    "def encrypt_vigenere (string,key):\n",
    "    cipher_text = []\n",
    "    for i in range(len(string)):\n",
    "        x = (ord(string[i]) + ord(key[i]))\n",
    "        \n",
    "        cipher_text.append(chr(x))\n",
    "    return (\"\" . join(cipher_text))\n",
    "\n",
    "def decrypt_vigenere(cipher_text, key):\n",
    "    orig_text =[]\n",
    "    for i in range(len(cipher_text)):\n",
    "        x = (ord(cipher_text[i]) - ord(key[i]))\n",
    "        \n",
    "        orig_text.append(chr(x))\n",
    "    return(\"\" . join(orig_text))"
   ]
  },
  {
   "cell_type": "code",
   "execution_count": 51,
   "metadata": {},
   "outputs": [
    {
     "data": {
      "text/plain": [
       "'ÑÇÍ×'"
      ]
     },
     "execution_count": 51,
     "metadata": {},
     "output_type": "execute_result"
    }
   ],
   "source": [
    "encrypt_vigenere('ifah', 'halo')"
   ]
  },
  {
   "cell_type": "code",
   "execution_count": 53,
   "metadata": {},
   "outputs": [
    {
     "data": {
      "text/plain": [
       "'ifah'"
      ]
     },
     "execution_count": 53,
     "metadata": {},
     "output_type": "execute_result"
    }
   ],
   "source": [
    "decrypt_vigenere('ÑÇÍ×','halo')"
   ]
  },
  {
   "cell_type": "markdown",
   "metadata": {},
   "source": [
    "## Coba coba"
   ]
  },
  {
   "cell_type": "code",
   "execution_count": 1,
   "metadata": {},
   "outputs": [],
   "source": [
    "import string\n",
    "\n",
    "chars = string.ascii_uppercase + string.ascii_lowercase\n",
    "\n",
    "def encrypt (text,key):\n",
    "    textCharAtPos = [chars.find(i) for i in text]\n",
    "    keyCharAtPos = [chars.find(i) for i in key]\n",
    "    \n",
    "    keyLength = len(key)\n",
    "    textLength = lent(text)\n",
    "    \n",
    "    cipher = \"\"\n",
    "    \n",
    "    for i in range (textLength):\n",
    "        letter = (textCharAtPos[n] + keyCharAtPos[n % keylegth]) % len(chars)\n",
    "        cipher += chars[letter]\n",
    "        \n",
    "        return cipher"
   ]
  },
  {
   "cell_type": "code",
   "execution_count": null,
   "metadata": {},
   "outputs": [],
   "source": []
  }
 ],
 "metadata": {
  "kernelspec": {
   "display_name": "Python 3",
   "language": "python",
   "name": "python3"
  },
  "language_info": {
   "codemirror_mode": {
    "name": "ipython",
    "version": 3
   },
   "file_extension": ".py",
   "mimetype": "text/x-python",
   "name": "python",
   "nbconvert_exporter": "python",
   "pygments_lexer": "ipython3",
   "version": "3.8.3"
  }
 },
 "nbformat": 4,
 "nbformat_minor": 4
}
