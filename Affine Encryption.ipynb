{
 "cells": [
  {
   "cell_type": "code",
   "execution_count": 2,
   "metadata": {},
   "outputs": [],
   "source": [
    "def encrypt(a,x,k):\n",
    "    c=''\n",
    "    t=len(x)\n",
    "    for i in range (0,t):\n",
    "        if x[i]==' ':\n",
    "            ct=' '\n",
    "        else:\n",
    "            p=ord(x[i])\n",
    "            y=((a*(p-97))+k)%26\n",
    "            ct=chr(y+97)\n",
    "        c=c+ct\n",
    "    return c\n",
    "def decrypt(ain,x,k):\n",
    "    p=''\n",
    "    t=len(x)\n",
    "    for i in range(0,t):\n",
    "        if x[i]==' ':\n",
    "            pt=' '\n",
    "        else:\n",
    "            c=ord(x[i])\n",
    "            y=(ain*(c-k-97))%26\n",
    "            pt=chr(y+97)\n",
    "        p=p+pt\n",
    "    return p\n",
    "                "
   ]
  },
  {
   "cell_type": "code",
   "execution_count": 4,
   "metadata": {},
   "outputs": [
    {
     "data": {
      "text/plain": [
       "'czolne'"
      ]
     },
     "execution_count": 4,
     "metadata": {},
     "output_type": "execute_result"
    }
   ],
   "source": [
    "encrypt(7,'kripto',10)"
   ]
  },
  {
   "cell_type": "code",
   "execution_count": 3,
   "metadata": {},
   "outputs": [
    {
     "data": {
      "text/plain": [
       "'mqssym ssqossqsgssy sewmswskusqwicoss i isqq yasos ascyuaca wksqswesqqa'"
      ]
     },
     "execution_count": 3,
     "metadata": {},
     "output_type": "execute_result"
    }
   ],
   "source": [
    "decrypt(6,'zraabm aariaaenlaab apfmnsadjaeshtiaa h unre oxnia kagojkgx sdaensparrx',10)"
   ]
  },
  {
   "cell_type": "code",
   "execution_count": null,
   "metadata": {},
   "outputs": [],
   "source": []
  }
 ],
 "metadata": {
  "kernelspec": {
   "display_name": "Python 3",
   "language": "python",
   "name": "python3"
  },
  "language_info": {
   "codemirror_mode": {
    "name": "ipython",
    "version": 3
   },
   "file_extension": ".py",
   "mimetype": "text/x-python",
   "name": "python",
   "nbconvert_exporter": "python",
   "pygments_lexer": "ipython3",
   "version": "3.8.3"
  }
 },
 "nbformat": 4,
 "nbformat_minor": 4
}
