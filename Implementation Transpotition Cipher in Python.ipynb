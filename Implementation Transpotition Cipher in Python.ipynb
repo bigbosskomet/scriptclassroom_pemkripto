{
 "cells": [
  {
   "cell_type": "markdown",
   "metadata": {},
   "source": [
    "# Implementation Transpotition Cipher in Python"
   ]
  },
  {
   "cell_type": "code",
   "execution_count": 2,
   "metadata": {},
   "outputs": [],
   "source": [
    "def entrans(p,k):\n",
    "    c=''\n",
    "    b=len(p)\n",
    "    while b%k>0:\n",
    "        p=p+'x'\n",
    "    b=len(p)\n",
    "    n=b//k\n",
    "    for i in range(k):\n",
    "        for j in range(n):\n",
    "            c=c+p[i+j*k]\n",
    "    return c\n",
    "\n",
    "def detrans(c,k):\n",
    "    b=len(c)\n",
    "    k=b//k\n",
    "    p=''\n",
    "    n=b//k\n",
    "    for i in range(k):\n",
    "        for j in range(n):\n",
    "            p=p+c[i+j*k]\n",
    "    return p"
   ]
  },
  {
   "cell_type": "code",
   "execution_count": 3,
   "metadata": {},
   "outputs": [
    {
     "data": {
      "text/plain": [
       "'METAAMIKTAKU'"
      ]
     },
     "execution_count": 3,
     "metadata": {},
     "output_type": "execute_result"
    }
   ],
   "source": [
    "entrans('MATEMATIKAKU',3)"
   ]
  },
  {
   "cell_type": "code",
   "execution_count": 3,
   "metadata": {},
   "outputs": [
    {
     "data": {
      "text/plain": [
       "'zaft jramiokaenaxgansanxbla i madhas aj  dabaukaa enaerasrgnipheos'"
      ]
     },
     "execution_count": 3,
     "metadata": {},
     "output_type": "execute_result"
    }
   ],
   "source": [
    "detrans('zraabm aariaaenlaab apfmnsadjaeshtiaa h unre oxnia kagojkgx sdaensparrx',6)"
   ]
  },
  {
   "cell_type": "code",
   "execution_count": null,
   "metadata": {},
   "outputs": [],
   "source": []
  }
 ],
 "metadata": {
  "kernelspec": {
   "display_name": "Python 3",
   "language": "python",
   "name": "python3"
  },
  "language_info": {
   "codemirror_mode": {
    "name": "ipython",
    "version": 3
   },
   "file_extension": ".py",
   "mimetype": "text/x-python",
   "name": "python",
   "nbconvert_exporter": "python",
   "pygments_lexer": "ipython3",
   "version": "3.8.3"
  }
 },
 "nbformat": 4,
 "nbformat_minor": 4
}
